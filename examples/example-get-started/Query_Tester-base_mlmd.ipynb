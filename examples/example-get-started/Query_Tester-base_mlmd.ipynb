{
 "cells": [
  {
   "cell_type": "markdown",
   "id": "92316a38",
   "metadata": {},
   "source": [
    "### This Jupyter notebook provides examples of how the pipeline metadata stored with CMF tracking layer can be queried with CMF query layer."
   ]
  },
  {
   "cell_type": "code",
   "execution_count": 40,
   "id": "d8cecabd",
   "metadata": {},
   "outputs": [],
   "source": [
    "import pandas as pd\n",
    "from cmflib import cmfquery"
   ]
  },
  {
   "cell_type": "markdown",
   "id": "9ae54008",
   "metadata": {},
   "source": [
    "### Initialize the library and get all the stages in the pipeline\n",
    "Point the library to the metadata file. <br>\n",
    "The `get_pipeline_stages` call point to the different stages in the pipeline."
   ]
  },
  {
   "cell_type": "code",
   "execution_count": 53,
   "id": "8b735117",
   "metadata": {
    "pycharm": {
     "is_executing": true
    }
   },
   "outputs": [
    {
     "data": {
      "text/plain": [
       "['Prepare', 'Featurize', 'Train', 'Evaluate']"
      ]
     },
     "metadata": {},
     "output_type": "display_data"
    }
   ],
   "source": [
    "query = cmfquery.CmfQuery(\"./mlmd\")\n",
    "pipelines = query.get_pipeline_names()\n",
    "stages = query.get_pipeline_stages(pipelines[0])\n",
    "display(stages)"
   ]
  },
  {
   "cell_type": "markdown",
   "id": "5ac1591f",
   "metadata": {},
   "source": [
    "### Query the Executions in each stage"
   ]
  },
  {
   "cell_type": "code",
   "execution_count": 54,
   "id": "da0ee66d",
   "metadata": {
    "pycharm": {
     "is_executing": true
    }
   },
   "outputs": [
    {
     "name": "stdout",
     "output_type": "stream",
     "text": [
      "Displaying execution for stage Prepare\n"
     ]
    },
    {
     "data": {
      "text/html": [
       "<div>\n",
       "<style scoped>\n",
       "    .dataframe tbody tr th:only-of-type {\n",
       "        vertical-align: middle;\n",
       "    }\n",
       "\n",
       "    .dataframe tbody tr th {\n",
       "        vertical-align: top;\n",
       "    }\n",
       "\n",
       "    .dataframe thead th {\n",
       "        text-align: right;\n",
       "    }\n",
       "</style>\n",
       "<table border=\"1\" class=\"dataframe\">\n",
       "  <thead>\n",
       "    <tr style=\"text-align: right;\">\n",
       "      <th></th>\n",
       "      <th>Context_ID</th>\n",
       "      <th>Context_Type</th>\n",
       "      <th>Execution</th>\n",
       "      <th>Git_End_Commit</th>\n",
       "      <th>Git_Repo</th>\n",
       "      <th>Git_Start_Commit</th>\n",
       "      <th>Pipeline_Type</th>\n",
       "      <th>Pipeline_id</th>\n",
       "      <th>id</th>\n",
       "      <th>seed</th>\n",
       "      <th>split</th>\n",
       "    </tr>\n",
       "  </thead>\n",
       "  <tbody>\n",
       "    <tr>\n",
       "      <th>0</th>\n",
       "      <td>2</td>\n",
       "      <td>Prepare</td>\n",
       "      <td>['src/parse.py', 'artifacts/data.xml.gz', 'artifacts/parsed']</td>\n",
       "      <td></td>\n",
       "      <td>/tmp/cmf/example_get_started/git_remote</td>\n",
       "      <td>8158283953c04affb8fe5ea6710656564ede7d3a</td>\n",
       "      <td>Test-env</td>\n",
       "      <td>1</td>\n",
       "      <td>1</td>\n",
       "      <td>20170428</td>\n",
       "      <td>0.2</td>\n",
       "    </tr>\n",
       "  </tbody>\n",
       "</table>\n",
       "</div>"
      ],
      "text/plain": [
       "   Context_ID Context_Type  \\\n",
       "0           2      Prepare   \n",
       "\n",
       "                                                       Execution  \\\n",
       "0  ['src/parse.py', 'artifacts/data.xml.gz', 'artifacts/parsed']   \n",
       "\n",
       "  Git_End_Commit                                 Git_Repo  \\\n",
       "0                 /tmp/cmf/example_get_started/git_remote   \n",
       "\n",
       "                           Git_Start_Commit Pipeline_Type  Pipeline_id  id  \\\n",
       "0  8158283953c04affb8fe5ea6710656564ede7d3a      Test-env            1   1   \n",
       "\n",
       "       seed  split  \n",
       "0  20170428    0.2  "
      ]
     },
     "metadata": {},
     "output_type": "display_data"
    },
    {
     "name": "stdout",
     "output_type": "stream",
     "text": [
      "Displaying execution for stage Featurize\n"
     ]
    },
    {
     "data": {
      "text/html": [
       "<div>\n",
       "<style scoped>\n",
       "    .dataframe tbody tr th:only-of-type {\n",
       "        vertical-align: middle;\n",
       "    }\n",
       "\n",
       "    .dataframe tbody tr th {\n",
       "        vertical-align: top;\n",
       "    }\n",
       "\n",
       "    .dataframe thead th {\n",
       "        text-align: right;\n",
       "    }\n",
       "</style>\n",
       "<table border=\"1\" class=\"dataframe\">\n",
       "  <thead>\n",
       "    <tr style=\"text-align: right;\">\n",
       "      <th></th>\n",
       "      <th>Context_ID</th>\n",
       "      <th>Context_Type</th>\n",
       "      <th>Execution</th>\n",
       "      <th>Git_End_Commit</th>\n",
       "      <th>Git_Repo</th>\n",
       "      <th>Git_Start_Commit</th>\n",
       "      <th>Pipeline_Type</th>\n",
       "      <th>Pipeline_id</th>\n",
       "      <th>id</th>\n",
       "      <th>max_features</th>\n",
       "      <th>ngrams</th>\n",
       "    </tr>\n",
       "  </thead>\n",
       "  <tbody>\n",
       "    <tr>\n",
       "      <th>0</th>\n",
       "      <td>3</td>\n",
       "      <td>Featurize-execution</td>\n",
       "      <td>['src/featurize.py', 'artifacts/parsed', 'artifacts/features']</td>\n",
       "      <td></td>\n",
       "      <td>/tmp/cmf/example_get_started/git_remote</td>\n",
       "      <td>8158283953c04affb8fe5ea6710656564ede7d3a</td>\n",
       "      <td>Test-env</td>\n",
       "      <td>1</td>\n",
       "      <td>2</td>\n",
       "      <td>3000</td>\n",
       "      <td>2</td>\n",
       "    </tr>\n",
       "  </tbody>\n",
       "</table>\n",
       "</div>"
      ],
      "text/plain": [
       "   Context_ID         Context_Type  \\\n",
       "0           3  Featurize-execution   \n",
       "\n",
       "                                                        Execution  \\\n",
       "0  ['src/featurize.py', 'artifacts/parsed', 'artifacts/features']   \n",
       "\n",
       "  Git_End_Commit                                 Git_Repo  \\\n",
       "0                 /tmp/cmf/example_get_started/git_remote   \n",
       "\n",
       "                           Git_Start_Commit Pipeline_Type  Pipeline_id  id  \\\n",
       "0  8158283953c04affb8fe5ea6710656564ede7d3a      Test-env            1   2   \n",
       "\n",
       "   max_features  ngrams  \n",
       "0          3000       2  "
      ]
     },
     "metadata": {},
     "output_type": "display_data"
    },
    {
     "name": "stdout",
     "output_type": "stream",
     "text": [
      "Displaying execution for stage Train\n"
     ]
    },
    {
     "data": {
      "text/html": [
       "<div>\n",
       "<style scoped>\n",
       "    .dataframe tbody tr th:only-of-type {\n",
       "        vertical-align: middle;\n",
       "    }\n",
       "\n",
       "    .dataframe tbody tr th {\n",
       "        vertical-align: top;\n",
       "    }\n",
       "\n",
       "    .dataframe thead th {\n",
       "        text-align: right;\n",
       "    }\n",
       "</style>\n",
       "<table border=\"1\" class=\"dataframe\">\n",
       "  <thead>\n",
       "    <tr style=\"text-align: right;\">\n",
       "      <th></th>\n",
       "      <th>Context_ID</th>\n",
       "      <th>Context_Type</th>\n",
       "      <th>Execution</th>\n",
       "      <th>Git_End_Commit</th>\n",
       "      <th>Git_Repo</th>\n",
       "      <th>Git_Start_Commit</th>\n",
       "      <th>Pipeline_Type</th>\n",
       "      <th>Pipeline_id</th>\n",
       "      <th>id</th>\n",
       "      <th>min_split</th>\n",
       "      <th>n_est</th>\n",
       "      <th>seed</th>\n",
       "    </tr>\n",
       "  </thead>\n",
       "  <tbody>\n",
       "    <tr>\n",
       "      <th>0</th>\n",
       "      <td>4</td>\n",
       "      <td>Train-execution</td>\n",
       "      <td>['src/train.py', 'artifacts/features', 'artifacts/model']</td>\n",
       "      <td></td>\n",
       "      <td>/tmp/cmf/example_get_started/git_remote</td>\n",
       "      <td>8158283953c04affb8fe5ea6710656564ede7d3a</td>\n",
       "      <td>Test-env</td>\n",
       "      <td>1</td>\n",
       "      <td>3</td>\n",
       "      <td>64</td>\n",
       "      <td>100</td>\n",
       "      <td>20170428</td>\n",
       "    </tr>\n",
       "  </tbody>\n",
       "</table>\n",
       "</div>"
      ],
      "text/plain": [
       "   Context_ID     Context_Type  \\\n",
       "0           4  Train-execution   \n",
       "\n",
       "                                                   Execution Git_End_Commit  \\\n",
       "0  ['src/train.py', 'artifacts/features', 'artifacts/model']                  \n",
       "\n",
       "                                  Git_Repo  \\\n",
       "0  /tmp/cmf/example_get_started/git_remote   \n",
       "\n",
       "                           Git_Start_Commit Pipeline_Type  Pipeline_id  id  \\\n",
       "0  8158283953c04affb8fe5ea6710656564ede7d3a      Test-env            1   3   \n",
       "\n",
       "   min_split  n_est      seed  \n",
       "0         64    100  20170428  "
      ]
     },
     "metadata": {},
     "output_type": "display_data"
    },
    {
     "name": "stdout",
     "output_type": "stream",
     "text": [
      "Displaying execution for stage Evaluate\n"
     ]
    },
    {
     "data": {
      "text/html": [
       "<div>\n",
       "<style scoped>\n",
       "    .dataframe tbody tr th:only-of-type {\n",
       "        vertical-align: middle;\n",
       "    }\n",
       "\n",
       "    .dataframe tbody tr th {\n",
       "        vertical-align: top;\n",
       "    }\n",
       "\n",
       "    .dataframe thead th {\n",
       "        text-align: right;\n",
       "    }\n",
       "</style>\n",
       "<table border=\"1\" class=\"dataframe\">\n",
       "  <thead>\n",
       "    <tr style=\"text-align: right;\">\n",
       "      <th></th>\n",
       "      <th>Context_ID</th>\n",
       "      <th>Context_Type</th>\n",
       "      <th>Execution</th>\n",
       "      <th>Git_End_Commit</th>\n",
       "      <th>Git_Repo</th>\n",
       "      <th>Git_Start_Commit</th>\n",
       "      <th>Pipeline_Type</th>\n",
       "      <th>Pipeline_id</th>\n",
       "      <th>id</th>\n",
       "    </tr>\n",
       "  </thead>\n",
       "  <tbody>\n",
       "    <tr>\n",
       "      <th>0</th>\n",
       "      <td>5</td>\n",
       "      <td>Evaluate-execution</td>\n",
       "      <td>['src/test.py', 'artifacts/model', 'artifacts/features', 'artifacts/tes...</td>\n",
       "      <td></td>\n",
       "      <td>/tmp/cmf/example_get_started/git_remote</td>\n",
       "      <td>8158283953c04affb8fe5ea6710656564ede7d3a</td>\n",
       "      <td>Test-env</td>\n",
       "      <td>1</td>\n",
       "      <td>4</td>\n",
       "    </tr>\n",
       "  </tbody>\n",
       "</table>\n",
       "</div>"
      ],
      "text/plain": [
       "   Context_ID        Context_Type  \\\n",
       "0           5  Evaluate-execution   \n",
       "\n",
       "                                                                    Execution  \\\n",
       "0  ['src/test.py', 'artifacts/model', 'artifacts/features', 'artifacts/tes...   \n",
       "\n",
       "  Git_End_Commit                                 Git_Repo  \\\n",
       "0                 /tmp/cmf/example_get_started/git_remote   \n",
       "\n",
       "                           Git_Start_Commit Pipeline_Type  Pipeline_id  id  \n",
       "0  8158283953c04affb8fe5ea6710656564ede7d3a      Test-env            1   4  "
      ]
     },
     "metadata": {},
     "output_type": "display_data"
    }
   ],
   "source": [
    "for stage in stages:\n",
    "    executions = query.get_all_executions_in_stage(stage)\n",
    "    print(f\"Displaying execution for stage {stage}\")\n",
    "    display(executions)"
   ]
  },
  {
   "cell_type": "markdown",
   "id": "5a3599af",
   "metadata": {},
   "source": [
    "### Get all  artifacts of an execution. \n",
    "<b>input parameter - execution_id</b><br>\n",
    "<b>output parameter - artifacts</b><br>\n"
   ]
  },
  {
   "cell_type": "code",
   "execution_count": 56,
   "id": "6fa93876",
   "metadata": {
    "pycharm": {
     "is_executing": true
    }
   },
   "outputs": [
    {
     "name": "stdout",
     "output_type": "stream",
     "text": [
      "Displaying the artifacts for execution with id 1 belonging to Prepare\n"
     ]
    },
    {
     "data": {
      "text/html": [
       "<div>\n",
       "<style scoped>\n",
       "    .dataframe tbody tr th:only-of-type {\n",
       "        vertical-align: middle;\n",
       "    }\n",
       "\n",
       "    .dataframe tbody tr th {\n",
       "        vertical-align: top;\n",
       "    }\n",
       "\n",
       "    .dataframe thead th {\n",
       "        text-align: right;\n",
       "    }\n",
       "</style>\n",
       "<table border=\"1\" class=\"dataframe\">\n",
       "  <thead>\n",
       "    <tr style=\"text-align: right;\">\n",
       "      <th></th>\n",
       "      <th>Commit</th>\n",
       "      <th>create_time_since_epoch</th>\n",
       "      <th>event</th>\n",
       "      <th>git_repo</th>\n",
       "      <th>id</th>\n",
       "      <th>last_update_time_since_epoch</th>\n",
       "      <th>name</th>\n",
       "      <th>type</th>\n",
       "      <th>uri</th>\n",
       "      <th>user-metadata1</th>\n",
       "      <th>user-metadata2</th>\n",
       "    </tr>\n",
       "  </thead>\n",
       "  <tbody>\n",
       "    <tr>\n",
       "      <th>0</th>\n",
       "      <td>commit 03c25dfdb6c188b7b04f7e675dec072de192b851</td>\n",
       "      <td>1667255770792</td>\n",
       "      <td>INPUT</td>\n",
       "      <td>/tmp/cmf/example_get_started/git_remote</td>\n",
       "      <td>1</td>\n",
       "      <td>1667255778222</td>\n",
       "      <td>artifacts/data.xml.gz:236d9502e0283d91f689d7038b8508a2</td>\n",
       "      <td>Dataset</td>\n",
       "      <td>236d9502e0283d91f689d7038b8508a2</td>\n",
       "      <td>metadata_value</td>\n",
       "      <td>metadata_value</td>\n",
       "    </tr>\n",
       "    <tr>\n",
       "      <th>1</th>\n",
       "      <td>commit 4fba7197919fb85dd1a0899d2cf5c5c690ee607c</td>\n",
       "      <td>1667255774532</td>\n",
       "      <td>OUTPUT</td>\n",
       "      <td>/tmp/cmf/example_get_started/git_remote</td>\n",
       "      <td>2</td>\n",
       "      <td>1667255774532</td>\n",
       "      <td>artifacts/parsed/train.tsv:22ec7737f442cfc81e8c701fb58d1007</td>\n",
       "      <td>Dataset</td>\n",
       "      <td>22ec7737f442cfc81e8c701fb58d1007</td>\n",
       "      <td>NaN</td>\n",
       "      <td>NaN</td>\n",
       "    </tr>\n",
       "    <tr>\n",
       "      <th>2</th>\n",
       "      <td>commit 5dfd3ac63c950f6394e5b7cebd55343402c7fdb6</td>\n",
       "      <td>1667255776391</td>\n",
       "      <td>OUTPUT</td>\n",
       "      <td>/tmp/cmf/example_get_started/git_remote</td>\n",
       "      <td>3</td>\n",
       "      <td>1667255776391</td>\n",
       "      <td>artifacts/parsed/test.tsv:03e3627bda150c8cf51a55ef96ab3ede</td>\n",
       "      <td>Dataset</td>\n",
       "      <td>03e3627bda150c8cf51a55ef96ab3ede</td>\n",
       "      <td>NaN</td>\n",
       "      <td>NaN</td>\n",
       "    </tr>\n",
       "  </tbody>\n",
       "</table>\n",
       "</div>"
      ],
      "text/plain": [
       "                                            Commit  create_time_since_epoch  \\\n",
       "0  commit 03c25dfdb6c188b7b04f7e675dec072de192b851            1667255770792   \n",
       "1  commit 4fba7197919fb85dd1a0899d2cf5c5c690ee607c            1667255774532   \n",
       "2  commit 5dfd3ac63c950f6394e5b7cebd55343402c7fdb6            1667255776391   \n",
       "\n",
       "    event                                 git_repo  id  \\\n",
       "0   INPUT  /tmp/cmf/example_get_started/git_remote   1   \n",
       "1  OUTPUT  /tmp/cmf/example_get_started/git_remote   2   \n",
       "2  OUTPUT  /tmp/cmf/example_get_started/git_remote   3   \n",
       "\n",
       "   last_update_time_since_epoch  \\\n",
       "0                 1667255778222   \n",
       "1                 1667255774532   \n",
       "2                 1667255776391   \n",
       "\n",
       "                                                          name     type  \\\n",
       "0       artifacts/data.xml.gz:236d9502e0283d91f689d7038b8508a2  Dataset   \n",
       "1  artifacts/parsed/train.tsv:22ec7737f442cfc81e8c701fb58d1007  Dataset   \n",
       "2   artifacts/parsed/test.tsv:03e3627bda150c8cf51a55ef96ab3ede  Dataset   \n",
       "\n",
       "                                uri  user-metadata1  user-metadata2  \n",
       "0  236d9502e0283d91f689d7038b8508a2  metadata_value  metadata_value  \n",
       "1  22ec7737f442cfc81e8c701fb58d1007             NaN             NaN  \n",
       "2  03e3627bda150c8cf51a55ef96ab3ede             NaN             NaN  "
      ]
     },
     "metadata": {},
     "output_type": "display_data"
    }
   ],
   "source": [
    "\n",
    "executions = query.get_all_executions_in_stage(stages[0])\n",
    "print(f\"Displaying the artifacts for execution with id {executions.iloc[0]['id']} belonging to {stages[0]}\")\n",
    "artifacts = query.get_all_artifacts_for_execution(executions.iloc[0][\"id\"])\n",
    "display(artifacts)"
   ]
  },
  {
   "cell_type": "markdown",
   "id": "d15b7386",
   "metadata": {},
   "source": [
    "### Get all executions for an artifact (pass the artifact full name as the input parameter)"
   ]
  },
  {
   "cell_type": "code",
   "execution_count": 57,
   "id": "f1632d60",
   "metadata": {
    "pycharm": {
     "is_executing": true
    }
   },
   "outputs": [
    {
     "data": {
      "text/html": [
       "<div>\n",
       "<style scoped>\n",
       "    .dataframe tbody tr th:only-of-type {\n",
       "        vertical-align: middle;\n",
       "    }\n",
       "\n",
       "    .dataframe tbody tr th {\n",
       "        vertical-align: top;\n",
       "    }\n",
       "\n",
       "    .dataframe thead th {\n",
       "        text-align: right;\n",
       "    }\n",
       "</style>\n",
       "<table border=\"1\" class=\"dataframe\">\n",
       "  <thead>\n",
       "    <tr style=\"text-align: right;\">\n",
       "      <th></th>\n",
       "      <th>Type</th>\n",
       "      <th>execution_id</th>\n",
       "      <th>execution_name</th>\n",
       "      <th>pipeline</th>\n",
       "      <th>stage</th>\n",
       "    </tr>\n",
       "  </thead>\n",
       "  <tbody>\n",
       "    <tr>\n",
       "      <th>0</th>\n",
       "      <td>INPUT</td>\n",
       "      <td>1</td>\n",
       "      <td></td>\n",
       "      <td>Test-env</td>\n",
       "      <td>Prepare</td>\n",
       "    </tr>\n",
       "  </tbody>\n",
       "</table>\n",
       "</div>"
      ],
      "text/plain": [
       "    Type  execution_id execution_name  pipeline    stage\n",
       "0  INPUT             1                 Test-env  Prepare"
      ]
     },
     "metadata": {},
     "output_type": "display_data"
    }
   ],
   "source": [
    "#Provide the artifact in name:hash format\n",
    "artifacts = query.get_all_artifacts_for_execution(executions.iloc[0]['id'])\n",
    "for index, art in artifacts.iterrows():\n",
    "    if art[\"event\"] == \"INPUT\":\n",
    "        artifact_name = art[\"name\"]\n",
    "        break\n",
    "linked = query.get_all_executions_for_artifact(artifact_name)\n",
    "display(linked)"
   ]
  },
  {
   "cell_type": "markdown",
   "id": "7ad864e3",
   "metadata": {},
   "source": [
    "### Get all the parent artifacts of an artifact. Provides the artifact lineage chain"
   ]
  },
  {
   "cell_type": "code",
   "execution_count": 58,
   "id": "09652709",
   "metadata": {
    "pycharm": {
     "is_executing": true
    }
   },
   "outputs": [
    {
     "name": "stdout",
     "output_type": "stream",
     "text": [
      "Parent artifact of artifacts/features/train.pkl:5de5e987eadb4b86fc47604b59cb3725\n"
     ]
    },
    {
     "data": {
      "text/html": [
       "<div>\n",
       "<style scoped>\n",
       "    .dataframe tbody tr th:only-of-type {\n",
       "        vertical-align: middle;\n",
       "    }\n",
       "\n",
       "    .dataframe tbody tr th {\n",
       "        vertical-align: top;\n",
       "    }\n",
       "\n",
       "    .dataframe thead th {\n",
       "        text-align: right;\n",
       "    }\n",
       "</style>\n",
       "<table border=\"1\" class=\"dataframe\">\n",
       "  <thead>\n",
       "    <tr style=\"text-align: right;\">\n",
       "      <th></th>\n",
       "      <th>Commit</th>\n",
       "      <th>create_time_since_epoch</th>\n",
       "      <th>git_repo</th>\n",
       "      <th>id</th>\n",
       "      <th>last_update_time_since_epoch</th>\n",
       "      <th>name</th>\n",
       "      <th>type</th>\n",
       "      <th>uri</th>\n",
       "      <th>user-metadata1</th>\n",
       "      <th>user-metadata2</th>\n",
       "    </tr>\n",
       "  </thead>\n",
       "  <tbody>\n",
       "    <tr>\n",
       "      <th>0</th>\n",
       "      <td>commit 4fba7197919fb85dd1a0899d2cf5c5c690ee607c</td>\n",
       "      <td>1667255774532</td>\n",
       "      <td>/tmp/cmf/example_get_started/git_remote</td>\n",
       "      <td>2</td>\n",
       "      <td>1667255774532</td>\n",
       "      <td>artifacts/parsed/train.tsv:22ec7737f442cfc81e8c701fb58d1007</td>\n",
       "      <td>Dataset</td>\n",
       "      <td>22ec7737f442cfc81e8c701fb58d1007</td>\n",
       "      <td>NaN</td>\n",
       "      <td>NaN</td>\n",
       "    </tr>\n",
       "    <tr>\n",
       "      <th>1</th>\n",
       "      <td>commit 5dfd3ac63c950f6394e5b7cebd55343402c7fdb6</td>\n",
       "      <td>1667255776391</td>\n",
       "      <td>/tmp/cmf/example_get_started/git_remote</td>\n",
       "      <td>3</td>\n",
       "      <td>1667255776391</td>\n",
       "      <td>artifacts/parsed/test.tsv:03e3627bda150c8cf51a55ef96ab3ede</td>\n",
       "      <td>Dataset</td>\n",
       "      <td>03e3627bda150c8cf51a55ef96ab3ede</td>\n",
       "      <td>NaN</td>\n",
       "      <td>NaN</td>\n",
       "    </tr>\n",
       "    <tr>\n",
       "      <th>2</th>\n",
       "      <td>commit 03c25dfdb6c188b7b04f7e675dec072de192b851</td>\n",
       "      <td>1667255770792</td>\n",
       "      <td>/tmp/cmf/example_get_started/git_remote</td>\n",
       "      <td>1</td>\n",
       "      <td>1667255778222</td>\n",
       "      <td>artifacts/data.xml.gz:236d9502e0283d91f689d7038b8508a2</td>\n",
       "      <td>Dataset</td>\n",
       "      <td>236d9502e0283d91f689d7038b8508a2</td>\n",
       "      <td>metadata_value</td>\n",
       "      <td>metadata_value</td>\n",
       "    </tr>\n",
       "  </tbody>\n",
       "</table>\n",
       "</div>"
      ],
      "text/plain": [
       "                                            Commit  create_time_since_epoch  \\\n",
       "0  commit 4fba7197919fb85dd1a0899d2cf5c5c690ee607c            1667255774532   \n",
       "1  commit 5dfd3ac63c950f6394e5b7cebd55343402c7fdb6            1667255776391   \n",
       "2  commit 03c25dfdb6c188b7b04f7e675dec072de192b851            1667255770792   \n",
       "\n",
       "                                  git_repo  id  last_update_time_since_epoch  \\\n",
       "0  /tmp/cmf/example_get_started/git_remote   2                 1667255774532   \n",
       "1  /tmp/cmf/example_get_started/git_remote   3                 1667255776391   \n",
       "2  /tmp/cmf/example_get_started/git_remote   1                 1667255778222   \n",
       "\n",
       "                                                          name     type  \\\n",
       "0  artifacts/parsed/train.tsv:22ec7737f442cfc81e8c701fb58d1007  Dataset   \n",
       "1   artifacts/parsed/test.tsv:03e3627bda150c8cf51a55ef96ab3ede  Dataset   \n",
       "2       artifacts/data.xml.gz:236d9502e0283d91f689d7038b8508a2  Dataset   \n",
       "\n",
       "                                uri  user-metadata1  user-metadata2  \n",
       "0  22ec7737f442cfc81e8c701fb58d1007             NaN             NaN  \n",
       "1  03e3627bda150c8cf51a55ef96ab3ede             NaN             NaN  \n",
       "2  236d9502e0283d91f689d7038b8508a2  metadata_value  metadata_value  "
      ]
     },
     "metadata": {},
     "output_type": "display_data"
    }
   ],
   "source": [
    "artifacts = query.get_all_artifacts_for_execution(2)\n",
    "for index, art in artifacts.iterrows():\n",
    "    if art[\"event\"] == \"OUTPUT\":\n",
    "        artifact_name = art[\"name\"]\n",
    "        break\n",
    "print(f\"Parent artifact of {artifact_name}\")\n",
    "linked = query.get_all_parent_artifacts(artifact_name)\n",
    "display(linked)"
   ]
  },
  {
   "cell_type": "markdown",
   "id": "63b615f1",
   "metadata": {},
   "source": [
    "###  Get all  child artifacts of an artifact. It provides the lineage chain of successors"
   ]
  },
  {
   "cell_type": "code",
   "execution_count": 46,
   "id": "57b85ea6",
   "metadata": {
    "pycharm": {
     "is_executing": true
    }
   },
   "outputs": [
    {
     "name": "stdout",
     "output_type": "stream",
     "text": [
      "Child artifact of artifacts/features/train.pkl:5de5e987eadb4b86fc47604b59cb3725\n"
     ]
    },
    {
     "data": {
      "text/html": [
       "<div>\n",
       "<style scoped>\n",
       "    .dataframe tbody tr th:only-of-type {\n",
       "        vertical-align: middle;\n",
       "    }\n",
       "\n",
       "    .dataframe tbody tr th {\n",
       "        vertical-align: top;\n",
       "    }\n",
       "\n",
       "    .dataframe thead th {\n",
       "        text-align: right;\n",
       "    }\n",
       "</style>\n",
       "<table border=\"1\" class=\"dataframe\">\n",
       "  <thead>\n",
       "    <tr style=\"text-align: right;\">\n",
       "      <th></th>\n",
       "      <th>Commit</th>\n",
       "      <th>avg_prec</th>\n",
       "      <th>create_time_since_epoch</th>\n",
       "      <th>id</th>\n",
       "      <th>last_update_time_since_epoch</th>\n",
       "      <th>metrics_name</th>\n",
       "      <th>model_framework</th>\n",
       "      <th>model_name</th>\n",
       "      <th>model_type</th>\n",
       "      <th>name</th>\n",
       "      <th>roc_auc</th>\n",
       "      <th>type</th>\n",
       "      <th>uri</th>\n",
       "    </tr>\n",
       "  </thead>\n",
       "  <tbody>\n",
       "    <tr>\n",
       "      <th>0</th>\n",
       "      <td>commit 8158283953c04affb8fe5ea6710656564ede7d3a</td>\n",
       "      <td>NaN</td>\n",
       "      <td>1667255811813</td>\n",
       "      <td>6</td>\n",
       "      <td>1667255811813</td>\n",
       "      <td>NaN</td>\n",
       "      <td>SKlearn</td>\n",
       "      <td>RandomForestClassifier:default</td>\n",
       "      <td>RandomForestClassifier</td>\n",
       "      <td>artifacts/model/model.pkl:5f6e4aa57cce9e3a0b2f12e5766d19be:3</td>\n",
       "      <td>NaN</td>\n",
       "      <td>Model</td>\n",
       "      <td>5f6e4aa57cce9e3a0b2f12e5766d19be</td>\n",
       "    </tr>\n",
       "    <tr>\n",
       "      <th>1</th>\n",
       "      <td>NaN</td>\n",
       "      <td>0.526754</td>\n",
       "      <td>1667255818388</td>\n",
       "      <td>7</td>\n",
       "      <td>1667255818388</td>\n",
       "      <td>metrics:878d492e-596c-11ed-99a3-b47af137252e:4</td>\n",
       "      <td>NaN</td>\n",
       "      <td>NaN</td>\n",
       "      <td>NaN</td>\n",
       "      <td>metrics:878d492e-596c-11ed-99a3-b47af137252e:4</td>\n",
       "      <td>0.959238</td>\n",
       "      <td>Metrics</td>\n",
       "      <td>878d492e-596c-11ed-99a3-b47af137252e</td>\n",
       "    </tr>\n",
       "  </tbody>\n",
       "</table>\n",
       "</div>"
      ],
      "text/plain": [
       "                                            Commit  avg_prec  \\\n",
       "0  commit 8158283953c04affb8fe5ea6710656564ede7d3a       NaN   \n",
       "1                                              NaN  0.526754   \n",
       "\n",
       "   create_time_since_epoch  id  last_update_time_since_epoch  \\\n",
       "0            1667255811813   6                 1667255811813   \n",
       "1            1667255818388   7                 1667255818388   \n",
       "\n",
       "                                     metrics_name model_framework  \\\n",
       "0                                             NaN         SKlearn   \n",
       "1  metrics:878d492e-596c-11ed-99a3-b47af137252e:4             NaN   \n",
       "\n",
       "                       model_name              model_type  \\\n",
       "0  RandomForestClassifier:default  RandomForestClassifier   \n",
       "1                             NaN                     NaN   \n",
       "\n",
       "                                                           name   roc_auc  \\\n",
       "0  artifacts/model/model.pkl:5f6e4aa57cce9e3a0b2f12e5766d19be:3       NaN   \n",
       "1                metrics:878d492e-596c-11ed-99a3-b47af137252e:4  0.959238   \n",
       "\n",
       "      type                                   uri  \n",
       "0    Model      5f6e4aa57cce9e3a0b2f12e5766d19be  \n",
       "1  Metrics  878d492e-596c-11ed-99a3-b47af137252e  "
      ]
     },
     "metadata": {},
     "output_type": "display_data"
    }
   ],
   "source": [
    "print(f\"Child artifact of {artifact_name}\")\n",
    "linked = query.get_all_child_artifacts(artifact_name)\n",
    "display(linked)\n"
   ]
  },
  {
   "cell_type": "markdown",
   "id": "4cf2f2e6",
   "metadata": {
    "pycharm": {
     "name": "#%% md\n"
    }
   },
   "source": [
    "### Get all the parent artifacts of an artifact. Provides the artifact lineage chain of predecessors"
   ]
  },
  {
   "cell_type": "code",
   "execution_count": 59,
   "id": "493bd571",
   "metadata": {
    "pycharm": {
     "is_executing": true
    }
   },
   "outputs": [
    {
     "data": {
      "text/html": [
       "<div>\n",
       "<style scoped>\n",
       "    .dataframe tbody tr th:only-of-type {\n",
       "        vertical-align: middle;\n",
       "    }\n",
       "\n",
       "    .dataframe tbody tr th {\n",
       "        vertical-align: top;\n",
       "    }\n",
       "\n",
       "    .dataframe thead th {\n",
       "        text-align: right;\n",
       "    }\n",
       "</style>\n",
       "<table border=\"1\" class=\"dataframe\">\n",
       "  <thead>\n",
       "    <tr style=\"text-align: right;\">\n",
       "      <th></th>\n",
       "      <th>Commit</th>\n",
       "      <th>create_time_since_epoch</th>\n",
       "      <th>git_repo</th>\n",
       "      <th>id</th>\n",
       "      <th>last_update_time_since_epoch</th>\n",
       "      <th>name</th>\n",
       "      <th>type</th>\n",
       "      <th>uri</th>\n",
       "      <th>user-metadata1</th>\n",
       "      <th>user-metadata2</th>\n",
       "    </tr>\n",
       "  </thead>\n",
       "  <tbody>\n",
       "    <tr>\n",
       "      <th>0</th>\n",
       "      <td>commit 03c25dfdb6c188b7b04f7e675dec072de192b851</td>\n",
       "      <td>1667255770792</td>\n",
       "      <td>/tmp/cmf/example_get_started/git_remote</td>\n",
       "      <td>1</td>\n",
       "      <td>1667255778222</td>\n",
       "      <td>artifacts/data.xml.gz:236d9502e0283d91f689d7038b8508a2</td>\n",
       "      <td>Dataset</td>\n",
       "      <td>236d9502e0283d91f689d7038b8508a2</td>\n",
       "      <td>metadata_value</td>\n",
       "      <td>metadata_value</td>\n",
       "    </tr>\n",
       "  </tbody>\n",
       "</table>\n",
       "</div>"
      ],
      "text/plain": [
       "                                            Commit  create_time_since_epoch  \\\n",
       "0  commit 03c25dfdb6c188b7b04f7e675dec072de192b851            1667255770792   \n",
       "\n",
       "                                  git_repo  id  last_update_time_since_epoch  \\\n",
       "0  /tmp/cmf/example_get_started/git_remote   1                 1667255778222   \n",
       "\n",
       "                                                     name     type  \\\n",
       "0  artifacts/data.xml.gz:236d9502e0283d91f689d7038b8508a2  Dataset   \n",
       "\n",
       "                                uri  user-metadata1  user-metadata2  \n",
       "0  236d9502e0283d91f689d7038b8508a2  metadata_value  metadata_value  "
      ]
     },
     "metadata": {},
     "output_type": "display_data"
    }
   ],
   "source": [
    "\n",
    "linked = query.get_all_parent_artifacts(linked.iloc[0][\"name\"])\n",
    "display(linked)"
   ]
  },
  {
   "cell_type": "code",
   "execution_count": 60,
   "id": "4eb35ec5",
   "metadata": {
    "pycharm": {
     "is_executing": true
    }
   },
   "outputs": [
    {
     "data": {
      "text/html": [
       "<div>\n",
       "<style scoped>\n",
       "    .dataframe tbody tr th:only-of-type {\n",
       "        vertical-align: middle;\n",
       "    }\n",
       "\n",
       "    .dataframe tbody tr th {\n",
       "        vertical-align: top;\n",
       "    }\n",
       "\n",
       "    .dataframe thead th {\n",
       "        text-align: right;\n",
       "    }\n",
       "</style>\n",
       "<table border=\"1\" class=\"dataframe\">\n",
       "  <thead>\n",
       "    <tr style=\"text-align: right;\">\n",
       "      <th></th>\n",
       "      <th>Commit</th>\n",
       "      <th>avg_prec</th>\n",
       "      <th>create_time_since_epoch</th>\n",
       "      <th>git_repo</th>\n",
       "      <th>id</th>\n",
       "      <th>last_update_time_since_epoch</th>\n",
       "      <th>metrics_name</th>\n",
       "      <th>model_framework</th>\n",
       "      <th>model_name</th>\n",
       "      <th>model_type</th>\n",
       "      <th>name</th>\n",
       "      <th>roc_auc</th>\n",
       "      <th>type</th>\n",
       "      <th>uri</th>\n",
       "    </tr>\n",
       "  </thead>\n",
       "  <tbody>\n",
       "    <tr>\n",
       "      <th>0</th>\n",
       "      <td>commit 4fba7197919fb85dd1a0899d2cf5c5c690ee607c</td>\n",
       "      <td>NaN</td>\n",
       "      <td>1667255774532</td>\n",
       "      <td>/tmp/cmf/example_get_started/git_remote</td>\n",
       "      <td>2</td>\n",
       "      <td>1667255774532</td>\n",
       "      <td>NaN</td>\n",
       "      <td>NaN</td>\n",
       "      <td>NaN</td>\n",
       "      <td>NaN</td>\n",
       "      <td>artifacts/parsed/train.tsv:22ec7737f442cfc81e8c701fb58d1007</td>\n",
       "      <td>NaN</td>\n",
       "      <td>Dataset</td>\n",
       "      <td>22ec7737f442cfc81e8c701fb58d1007</td>\n",
       "    </tr>\n",
       "    <tr>\n",
       "      <th>1</th>\n",
       "      <td>commit 5dfd3ac63c950f6394e5b7cebd55343402c7fdb6</td>\n",
       "      <td>NaN</td>\n",
       "      <td>1667255776391</td>\n",
       "      <td>/tmp/cmf/example_get_started/git_remote</td>\n",
       "      <td>3</td>\n",
       "      <td>1667255776391</td>\n",
       "      <td>NaN</td>\n",
       "      <td>NaN</td>\n",
       "      <td>NaN</td>\n",
       "      <td>NaN</td>\n",
       "      <td>artifacts/parsed/test.tsv:03e3627bda150c8cf51a55ef96ab3ede</td>\n",
       "      <td>NaN</td>\n",
       "      <td>Dataset</td>\n",
       "      <td>03e3627bda150c8cf51a55ef96ab3ede</td>\n",
       "    </tr>\n",
       "    <tr>\n",
       "      <th>2</th>\n",
       "      <td>commit 4546b0679bcae18bd85893c69581db91da40495c</td>\n",
       "      <td>NaN</td>\n",
       "      <td>1667255800206</td>\n",
       "      <td>/tmp/cmf/example_get_started/git_remote</td>\n",
       "      <td>4</td>\n",
       "      <td>1667255800206</td>\n",
       "      <td>NaN</td>\n",
       "      <td>NaN</td>\n",
       "      <td>NaN</td>\n",
       "      <td>NaN</td>\n",
       "      <td>artifacts/features/train.pkl:5de5e987eadb4b86fc47604b59cb3725</td>\n",
       "      <td>NaN</td>\n",
       "      <td>Dataset</td>\n",
       "      <td>5de5e987eadb4b86fc47604b59cb3725</td>\n",
       "    </tr>\n",
       "    <tr>\n",
       "      <th>3</th>\n",
       "      <td>commit d67bedaa20e64e45fe9f553935d9ff0726f19b59</td>\n",
       "      <td>NaN</td>\n",
       "      <td>1667255802382</td>\n",
       "      <td>/tmp/cmf/example_get_started/git_remote</td>\n",
       "      <td>5</td>\n",
       "      <td>1667255802382</td>\n",
       "      <td>NaN</td>\n",
       "      <td>NaN</td>\n",
       "      <td>NaN</td>\n",
       "      <td>NaN</td>\n",
       "      <td>artifacts/features/test.pkl:b1f98b4ebd09a0bdc72f1a8c102065dd</td>\n",
       "      <td>NaN</td>\n",
       "      <td>Dataset</td>\n",
       "      <td>b1f98b4ebd09a0bdc72f1a8c102065dd</td>\n",
       "    </tr>\n",
       "    <tr>\n",
       "      <th>4</th>\n",
       "      <td>commit 8158283953c04affb8fe5ea6710656564ede7d3a</td>\n",
       "      <td>NaN</td>\n",
       "      <td>1667255811813</td>\n",
       "      <td>NaN</td>\n",
       "      <td>6</td>\n",
       "      <td>1667255811813</td>\n",
       "      <td>NaN</td>\n",
       "      <td>SKlearn</td>\n",
       "      <td>RandomForestClassifier:default</td>\n",
       "      <td>RandomForestClassifier</td>\n",
       "      <td>artifacts/model/model.pkl:5f6e4aa57cce9e3a0b2f12e5766d19be:3</td>\n",
       "      <td>NaN</td>\n",
       "      <td>Model</td>\n",
       "      <td>5f6e4aa57cce9e3a0b2f12e5766d19be</td>\n",
       "    </tr>\n",
       "    <tr>\n",
       "      <th>5</th>\n",
       "      <td>NaN</td>\n",
       "      <td>0.526754</td>\n",
       "      <td>1667255818388</td>\n",
       "      <td>NaN</td>\n",
       "      <td>7</td>\n",
       "      <td>1667255818388</td>\n",
       "      <td>metrics:878d492e-596c-11ed-99a3-b47af137252e:4</td>\n",
       "      <td>NaN</td>\n",
       "      <td>NaN</td>\n",
       "      <td>NaN</td>\n",
       "      <td>metrics:878d492e-596c-11ed-99a3-b47af137252e:4</td>\n",
       "      <td>0.959238</td>\n",
       "      <td>Metrics</td>\n",
       "      <td>878d492e-596c-11ed-99a3-b47af137252e</td>\n",
       "    </tr>\n",
       "  </tbody>\n",
       "</table>\n",
       "</div>"
      ],
      "text/plain": [
       "                                            Commit  avg_prec  \\\n",
       "0  commit 4fba7197919fb85dd1a0899d2cf5c5c690ee607c       NaN   \n",
       "1  commit 5dfd3ac63c950f6394e5b7cebd55343402c7fdb6       NaN   \n",
       "2  commit 4546b0679bcae18bd85893c69581db91da40495c       NaN   \n",
       "3  commit d67bedaa20e64e45fe9f553935d9ff0726f19b59       NaN   \n",
       "4  commit 8158283953c04affb8fe5ea6710656564ede7d3a       NaN   \n",
       "5                                              NaN  0.526754   \n",
       "\n",
       "   create_time_since_epoch                                 git_repo  id  \\\n",
       "0            1667255774532  /tmp/cmf/example_get_started/git_remote   2   \n",
       "1            1667255776391  /tmp/cmf/example_get_started/git_remote   3   \n",
       "2            1667255800206  /tmp/cmf/example_get_started/git_remote   4   \n",
       "3            1667255802382  /tmp/cmf/example_get_started/git_remote   5   \n",
       "4            1667255811813                                      NaN   6   \n",
       "5            1667255818388                                      NaN   7   \n",
       "\n",
       "   last_update_time_since_epoch  \\\n",
       "0                 1667255774532   \n",
       "1                 1667255776391   \n",
       "2                 1667255800206   \n",
       "3                 1667255802382   \n",
       "4                 1667255811813   \n",
       "5                 1667255818388   \n",
       "\n",
       "                                     metrics_name model_framework  \\\n",
       "0                                             NaN             NaN   \n",
       "1                                             NaN             NaN   \n",
       "2                                             NaN             NaN   \n",
       "3                                             NaN             NaN   \n",
       "4                                             NaN         SKlearn   \n",
       "5  metrics:878d492e-596c-11ed-99a3-b47af137252e:4             NaN   \n",
       "\n",
       "                       model_name              model_type  \\\n",
       "0                             NaN                     NaN   \n",
       "1                             NaN                     NaN   \n",
       "2                             NaN                     NaN   \n",
       "3                             NaN                     NaN   \n",
       "4  RandomForestClassifier:default  RandomForestClassifier   \n",
       "5                             NaN                     NaN   \n",
       "\n",
       "                                                            name   roc_auc  \\\n",
       "0    artifacts/parsed/train.tsv:22ec7737f442cfc81e8c701fb58d1007       NaN   \n",
       "1     artifacts/parsed/test.tsv:03e3627bda150c8cf51a55ef96ab3ede       NaN   \n",
       "2  artifacts/features/train.pkl:5de5e987eadb4b86fc47604b59cb3725       NaN   \n",
       "3   artifacts/features/test.pkl:b1f98b4ebd09a0bdc72f1a8c102065dd       NaN   \n",
       "4   artifacts/model/model.pkl:5f6e4aa57cce9e3a0b2f12e5766d19be:3       NaN   \n",
       "5                 metrics:878d492e-596c-11ed-99a3-b47af137252e:4  0.959238   \n",
       "\n",
       "      type                                   uri  \n",
       "0  Dataset      22ec7737f442cfc81e8c701fb58d1007  \n",
       "1  Dataset      03e3627bda150c8cf51a55ef96ab3ede  \n",
       "2  Dataset      5de5e987eadb4b86fc47604b59cb3725  \n",
       "3  Dataset      b1f98b4ebd09a0bdc72f1a8c102065dd  \n",
       "4    Model      5f6e4aa57cce9e3a0b2f12e5766d19be  \n",
       "5  Metrics  878d492e-596c-11ed-99a3-b47af137252e  "
      ]
     },
     "metadata": {},
     "output_type": "display_data"
    }
   ],
   "source": [
    "linked = query.get_all_child_artifacts(linked.iloc[0][\"name\"])\n",
    "display(linked)"
   ]
  },
  {
   "cell_type": "markdown",
   "id": "29060ba9",
   "metadata": {},
   "source": [
    "### Get immediate child artifacts of an artifact. "
   ]
  },
  {
   "cell_type": "code",
   "execution_count": 61,
   "id": "93bd401d",
   "metadata": {
    "pycharm": {
     "is_executing": true
    }
   },
   "outputs": [
    {
     "data": {
      "text/html": [
       "<div>\n",
       "<style scoped>\n",
       "    .dataframe tbody tr th:only-of-type {\n",
       "        vertical-align: middle;\n",
       "    }\n",
       "\n",
       "    .dataframe tbody tr th {\n",
       "        vertical-align: top;\n",
       "    }\n",
       "\n",
       "    .dataframe thead th {\n",
       "        text-align: right;\n",
       "    }\n",
       "</style>\n",
       "<table border=\"1\" class=\"dataframe\">\n",
       "  <thead>\n",
       "    <tr style=\"text-align: right;\">\n",
       "      <th></th>\n",
       "      <th>Commit</th>\n",
       "      <th>create_time_since_epoch</th>\n",
       "      <th>id</th>\n",
       "      <th>last_update_time_since_epoch</th>\n",
       "      <th>model_framework</th>\n",
       "      <th>model_name</th>\n",
       "      <th>model_type</th>\n",
       "      <th>name</th>\n",
       "      <th>type</th>\n",
       "      <th>uri</th>\n",
       "    </tr>\n",
       "  </thead>\n",
       "  <tbody>\n",
       "    <tr>\n",
       "      <th>0</th>\n",
       "      <td>commit 8158283953c04affb8fe5ea6710656564ede7d3a</td>\n",
       "      <td>1667255811813</td>\n",
       "      <td>6</td>\n",
       "      <td>1667255811813</td>\n",
       "      <td>SKlearn</td>\n",
       "      <td>RandomForestClassifier:default</td>\n",
       "      <td>RandomForestClassifier</td>\n",
       "      <td>artifacts/model/model.pkl:5f6e4aa57cce9e3a0b2f12e5766d19be:3</td>\n",
       "      <td>Model</td>\n",
       "      <td>5f6e4aa57cce9e3a0b2f12e5766d19be</td>\n",
       "    </tr>\n",
       "  </tbody>\n",
       "</table>\n",
       "</div>"
      ],
      "text/plain": [
       "                                            Commit  create_time_since_epoch  \\\n",
       "0  commit 8158283953c04affb8fe5ea6710656564ede7d3a            1667255811813   \n",
       "\n",
       "   id  last_update_time_since_epoch model_framework  \\\n",
       "0   6                 1667255811813         SKlearn   \n",
       "\n",
       "                       model_name              model_type  \\\n",
       "0  RandomForestClassifier:default  RandomForestClassifier   \n",
       "\n",
       "                                                           name   type  \\\n",
       "0  artifacts/model/model.pkl:5f6e4aa57cce9e3a0b2f12e5766d19be:3  Model   \n",
       "\n",
       "                                uri  \n",
       "0  5f6e4aa57cce9e3a0b2f12e5766d19be  "
      ]
     },
     "metadata": {},
     "output_type": "display_data"
    }
   ],
   "source": [
    "linked = query.get_one_hop_child_artifacts(artifact_name)\n",
    "display(linked)"
   ]
  },
  {
   "cell_type": "markdown",
   "id": "529817a7",
   "metadata": {},
   "source": [
    "### Get all child artifacts "
   ]
  },
  {
   "cell_type": "code",
   "execution_count": 62,
   "id": "496ee2bc",
   "metadata": {
    "pycharm": {
     "is_executing": true
    }
   },
   "outputs": [
    {
     "data": {
      "text/html": [
       "<div>\n",
       "<style scoped>\n",
       "    .dataframe tbody tr th:only-of-type {\n",
       "        vertical-align: middle;\n",
       "    }\n",
       "\n",
       "    .dataframe tbody tr th {\n",
       "        vertical-align: top;\n",
       "    }\n",
       "\n",
       "    .dataframe thead th {\n",
       "        text-align: right;\n",
       "    }\n",
       "</style>\n",
       "<table border=\"1\" class=\"dataframe\">\n",
       "  <thead>\n",
       "    <tr style=\"text-align: right;\">\n",
       "      <th></th>\n",
       "      <th>Commit</th>\n",
       "      <th>avg_prec</th>\n",
       "      <th>create_time_since_epoch</th>\n",
       "      <th>id</th>\n",
       "      <th>last_update_time_since_epoch</th>\n",
       "      <th>metrics_name</th>\n",
       "      <th>model_framework</th>\n",
       "      <th>model_name</th>\n",
       "      <th>model_type</th>\n",
       "      <th>name</th>\n",
       "      <th>roc_auc</th>\n",
       "      <th>type</th>\n",
       "      <th>uri</th>\n",
       "    </tr>\n",
       "  </thead>\n",
       "  <tbody>\n",
       "    <tr>\n",
       "      <th>0</th>\n",
       "      <td>commit 8158283953c04affb8fe5ea6710656564ede7d3a</td>\n",
       "      <td>NaN</td>\n",
       "      <td>1667255811813</td>\n",
       "      <td>6</td>\n",
       "      <td>1667255811813</td>\n",
       "      <td>NaN</td>\n",
       "      <td>SKlearn</td>\n",
       "      <td>RandomForestClassifier:default</td>\n",
       "      <td>RandomForestClassifier</td>\n",
       "      <td>artifacts/model/model.pkl:5f6e4aa57cce9e3a0b2f12e5766d19be:3</td>\n",
       "      <td>NaN</td>\n",
       "      <td>Model</td>\n",
       "      <td>5f6e4aa57cce9e3a0b2f12e5766d19be</td>\n",
       "    </tr>\n",
       "    <tr>\n",
       "      <th>1</th>\n",
       "      <td>NaN</td>\n",
       "      <td>0.526754</td>\n",
       "      <td>1667255818388</td>\n",
       "      <td>7</td>\n",
       "      <td>1667255818388</td>\n",
       "      <td>metrics:878d492e-596c-11ed-99a3-b47af137252e:4</td>\n",
       "      <td>NaN</td>\n",
       "      <td>NaN</td>\n",
       "      <td>NaN</td>\n",
       "      <td>metrics:878d492e-596c-11ed-99a3-b47af137252e:4</td>\n",
       "      <td>0.959238</td>\n",
       "      <td>Metrics</td>\n",
       "      <td>878d492e-596c-11ed-99a3-b47af137252e</td>\n",
       "    </tr>\n",
       "  </tbody>\n",
       "</table>\n",
       "</div>"
      ],
      "text/plain": [
       "                                            Commit  avg_prec  \\\n",
       "0  commit 8158283953c04affb8fe5ea6710656564ede7d3a       NaN   \n",
       "1                                              NaN  0.526754   \n",
       "\n",
       "   create_time_since_epoch  id  last_update_time_since_epoch  \\\n",
       "0            1667255811813   6                 1667255811813   \n",
       "1            1667255818388   7                 1667255818388   \n",
       "\n",
       "                                     metrics_name model_framework  \\\n",
       "0                                             NaN         SKlearn   \n",
       "1  metrics:878d492e-596c-11ed-99a3-b47af137252e:4             NaN   \n",
       "\n",
       "                       model_name              model_type  \\\n",
       "0  RandomForestClassifier:default  RandomForestClassifier   \n",
       "1                             NaN                     NaN   \n",
       "\n",
       "                                                           name   roc_auc  \\\n",
       "0  artifacts/model/model.pkl:5f6e4aa57cce9e3a0b2f12e5766d19be:3       NaN   \n",
       "1                metrics:878d492e-596c-11ed-99a3-b47af137252e:4  0.959238   \n",
       "\n",
       "      type                                   uri  \n",
       "0    Model      5f6e4aa57cce9e3a0b2f12e5766d19be  \n",
       "1  Metrics  878d492e-596c-11ed-99a3-b47af137252e  "
      ]
     },
     "metadata": {},
     "output_type": "display_data"
    }
   ],
   "source": [
    "linked = query.get_all_child_artifacts(artifact_name)\n",
    "display(linked)"
   ]
  },
  {
   "cell_type": "code",
   "execution_count": 63,
   "id": "1ae1d868",
   "metadata": {
    "pycharm": {
     "is_executing": true
    }
   },
   "outputs": [],
   "source": [
    "# Provide Execution id corresponding to a Evaluate stage\n",
    "linked = query.get_all_artifacts_for_execution(4)\n",
    "for index, row in linked.iterrows():\n",
    "    if row[\"type\"] == \"Metrics\":\n",
    "        break\n",
    "\n"
   ]
  },
  {
   "cell_type": "markdown",
   "id": "ae3109b7",
   "metadata": {},
   "source": [
    "### Get artifact "
   ]
  },
  {
   "cell_type": "code",
   "execution_count": 64,
   "id": "8bf8a41d",
   "metadata": {
    "pycharm": {
     "is_executing": true
    }
   },
   "outputs": [
    {
     "data": {
      "text/html": [
       "<div>\n",
       "<style scoped>\n",
       "    .dataframe tbody tr th:only-of-type {\n",
       "        vertical-align: middle;\n",
       "    }\n",
       "\n",
       "    .dataframe tbody tr th {\n",
       "        vertical-align: top;\n",
       "    }\n",
       "\n",
       "    .dataframe thead th {\n",
       "        text-align: right;\n",
       "    }\n",
       "</style>\n",
       "<table border=\"1\" class=\"dataframe\">\n",
       "  <thead>\n",
       "    <tr style=\"text-align: right;\">\n",
       "      <th></th>\n",
       "      <th>id</th>\n",
       "      <th>type</th>\n",
       "      <th>uri</th>\n",
       "      <th>name</th>\n",
       "      <th>create_time_since_epoch</th>\n",
       "      <th>last_update_time_since_epoch</th>\n",
       "      <th>metrics_name</th>\n",
       "      <th>avg_prec</th>\n",
       "      <th>roc_auc</th>\n",
       "    </tr>\n",
       "  </thead>\n",
       "  <tbody>\n",
       "    <tr>\n",
       "      <th>0</th>\n",
       "      <td>7</td>\n",
       "      <td>Metrics</td>\n",
       "      <td>878d492e-596c-11ed-99a3-b47af137252e</td>\n",
       "      <td>metrics:878d492e-596c-11ed-99a3-b47af137252e:4</td>\n",
       "      <td>1667255818388</td>\n",
       "      <td>1667255818388</td>\n",
       "      <td>metrics:878d492e-596c-11ed-99a3-b47af137252e:4</td>\n",
       "      <td>0.526754</td>\n",
       "      <td>0.959238</td>\n",
       "    </tr>\n",
       "  </tbody>\n",
       "</table>\n",
       "</div>"
      ],
      "text/plain": [
       "   id     type                                   uri  \\\n",
       "0   7  Metrics  878d492e-596c-11ed-99a3-b47af137252e   \n",
       "\n",
       "                                             name  create_time_since_epoch  \\\n",
       "0  metrics:878d492e-596c-11ed-99a3-b47af137252e:4            1667255818388   \n",
       "\n",
       "   last_update_time_since_epoch  \\\n",
       "0                 1667255818388   \n",
       "\n",
       "                                     metrics_name  avg_prec   roc_auc  \n",
       "0  metrics:878d492e-596c-11ed-99a3-b47af137252e:4  0.526754  0.959238  "
      ]
     },
     "metadata": {},
     "output_type": "display_data"
    }
   ],
   "source": [
    "artifact = query.get_artifact(row[\"name\"])\n",
    "display(artifact)\n"
   ]
  }
 ],
 "metadata": {
  "kernelspec": {
   "display_name": "Python 3",
   "language": "python",
   "name": "python3"
  },
  "language_info": {
   "codemirror_mode": {
    "name": "ipython",
    "version": 3
   },
   "file_extension": ".py",
   "mimetype": "text/x-python",
   "name": "python",
   "nbconvert_exporter": "python",
   "pygments_lexer": "ipython3",
   "version": "3.6.9"
  }
 },
 "nbformat": 4,
 "nbformat_minor": 5
}
