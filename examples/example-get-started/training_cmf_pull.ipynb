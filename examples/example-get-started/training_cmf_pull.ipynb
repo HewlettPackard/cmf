{
 "cells": [
  {
   "cell_type": "code",
   "execution_count": 1,
   "id": "90e2f6f4-87ee-48c2-b313-85b8be06c254",
   "metadata": {},
   "outputs": [],
   "source": [
    "from cmflib import cmf\n",
    "from cmflib.cmf import metadata_pull, artifact_pull"
   ]
  },
  {
   "cell_type": "code",
   "execution_count": 3,
   "id": "d197e374-2760-4ee8-97ca-31c8d9749eb7",
   "metadata": {},
   "outputs": [
    {
     "name": "stdout",
     "output_type": "stream",
     "text": [
      "remote.local-storage.url=/home/xxxx/local-storage\n",
      "core.remote=local-storage\n",
      "cmf-server-ip = http://localhost:8080\n"
     ]
    }
   ],
   "source": [
    "#CHECK WHETHER CMF IS INITIALIZED\n",
    "_=cmf.cmf_init_show()"
   ]
  },
  {
   "cell_type": "code",
   "execution_count": 2,
   "id": "41447f42-a63b-406c-a738-c561f521a677",
   "metadata": {},
   "outputs": [
    {
     "name": "stdout",
     "output_type": "stream",
     "text": [
      "Starting cmf init.\n",
      "Setting 'local-storage' as a default remote.\n",
      "cmf init complete.\n"
     ]
    }
   ],
   "source": [
    "#INITIALIZING LOCAL REPOSITORY\n",
    "init=cmf.cmf_init(type=\"local\",path=\"/home/xxxx/local-storage\",git_remote_url=\"http://github.com\",cmf_server_url=\"http://localhost:8080\")"
   ]
  },
  {
   "cell_type": "code",
   "execution_count": 14,
   "id": "2c3707dc-3fb0-4442-93ce-24400be9023d",
   "metadata": {},
   "outputs": [
    {
     "name": "stdout",
     "output_type": "stream",
     "text": [
      "SUCCESS: ./mlmd is successfully pulled.\n"
     ]
    }
   ],
   "source": [
    "#PULLING MLMD FOR GIVEN PIPELINE\n",
    "_=metadata_pull(\"Test-env\")"
   ]
  },
  {
   "cell_type": "code",
   "execution_count": 16,
   "id": "cbfa2292-acaf-4c69-9e0f-725ed43925d0",
   "metadata": {},
   "outputs": [
    {
     "name": "stdout",
     "output_type": "stream",
     "text": [
      "object 23/6d9502e0283d91f689d7038b8508a2 downloaded at ./artifacts/data.xml.gz.\n",
      "object 32/b715ef0d71ff4c9e61f55b09c15e75 downloaded at ./artifacts/parsed/train.tsv.\n",
      "object 6f/597d341ceb7d8fbbe88859a892ef81 downloaded at ./artifacts/parsed/test.tsv.\n",
      "object 4b/0798de5dd985eedbb0afee78b9e5aa downloaded at ./artifacts/features/train.pkl.\n",
      "object d7/bdfab860e2835ec9681fa9ebdce149 downloaded at ./artifacts/features/test.pkl.\n",
      "object bf/7975fbe663ce62c5287eebf6b35f7a downloaded at ./artifacts/model/model.pkl.\n",
      "\n",
      "\n",
      "\n",
      "\n",
      "\n",
      "\n",
      "Done\n"
     ]
    }
   ],
   "source": [
    "#PULLING ARTIFACTS FOR GIVEN MLMD FILE\n",
    "_=artifact_pull(\"Test-env\",\"./mlmd\")"
   ]
  },
  {
   "cell_type": "code",
   "execution_count": null,
   "id": "7d2d3843-8f4e-4808-a126-6f5df0002123",
   "metadata": {},
   "outputs": [],
   "source": []
  }
 ],
 "metadata": {
  "kernelspec": {
   "display_name": "Python 3 (ipykernel)",
   "language": "python",
   "name": "python3"
  },
  "language_info": {
   "codemirror_mode": {
    "name": "ipython",
    "version": 3
   },
   "file_extension": ".py",
   "mimetype": "text/x-python",
   "name": "python",
   "nbconvert_exporter": "python",
   "pygments_lexer": "ipython3",
   "version": "3.8.10"
  }
 },
 "nbformat": 4,
 "nbformat_minor": 5
}
