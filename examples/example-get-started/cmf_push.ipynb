{
 "cells": [
  {
   "cell_type": "code",
   "execution_count": 44,
   "id": "25c225f8-92e5-460b-8873-d3064dcee272",
   "metadata": {},
   "outputs": [],
   "source": [
    "import pandas as pd\n",
    "from cmflib import cmf\n",
    "from cmflib.cmf import metadata_push, artifact_push\n",
    "import os\n",
    "from cmflib import cmfquery\n",
    "from cmflib.cli.utils import find_root\n",
    "from cmflib.utils.cmf_config import CmfConfig\n",
    "import requests\n",
    "import warnings\n",
    "warnings.filterwarnings(\"ignore\")\n",
    "warnings.simplefilter('ignore')"
   ]
  },
  {
   "cell_type": "code",
   "execution_count": 45,
   "id": "e1cffa73-c92f-4d43-b50a-13c5a2be53e5",
   "metadata": {},
   "outputs": [
    {
     "name": "stdout",
     "output_type": "stream",
     "text": [
      "remote.local-storage.url=/home/chobey/local-storage\n",
      "core.no_scm=True\n",
      "core.remote=local-storage\n",
      "cmf-server-ip = http://10.93.244.206:8080\n"
     ]
    }
   ],
   "source": [
    "#CHECK WHETHER CMF IS INITIALIZED\n",
    "_=cmf.cmf_init_show()"
   ]
  },
  {
   "cell_type": "code",
   "execution_count": 46,
   "id": "0f6a1960-75c8-4ff3-bd94-124bae7be509",
   "metadata": {},
   "outputs": [
    {
     "name": "stdout",
     "output_type": "stream",
     "text": [
      "Starting cmf init.\n",
      "Setting 'local-storage' as a default remote.\n",
      "cmf init complete.\n"
     ]
    }
   ],
   "source": [
    "#INITIALIZING LOCAL REPOSITORY\n",
    "init=cmf.cmf_init(type=\"local\",path=\"/home/chobey/local-storage\",git_remote_url=\"http://github.com\",cmf_server_url=\"http://10.93.244.206:8080\")"
   ]
  },
  {
   "cell_type": "code",
   "execution_count": 26,
   "id": "74ffbb1f-5dc9-4c1f-9a3c-8b9a66edbdd9",
   "metadata": {},
   "outputs": [
    {
     "name": "stdout",
     "output_type": "stream",
     "text": [
      "*** Note: CMF will check out a new branch in git to commit the metadata files ***\n",
      "*** The checked out branch is mlmd. ***\n"
     ]
    },
    {
     "name": "stderr",
     "output_type": "stream",
     "text": [
      "\\u283c Checking graphges from the workspacekspace\n",
      "\\u283c Checking graphges from the workspacekspace\n",
      "\\u2839 Checking graphng stages from the workspace\n",
      "\u001b[?25h\r"
     ]
    }
   ],
   "source": [
    "%run -i \"src/parse.py\" \"artifacts/data.xml.gz\" \"artifacts/parsed\""
   ]
  },
  {
   "cell_type": "code",
   "execution_count": 14,
   "id": "af2bba2f-f6f8-4026-b028-a9c9ef0f50e3",
   "metadata": {},
   "outputs": [
    {
     "name": "stdout",
     "output_type": "stream",
     "text": [
      "*** Note: CMF will check out a new branch in git to commit the metadata files ***\n",
      "*** The checked out branch is mlmd. ***\n"
     ]
    },
    {
     "name": "stderr",
     "output_type": "stream",
     "text": [
      "\\u2839 Checking graphng stages from the workspace\n",
      "\\u2838 Checking graphng stages from the workspace\n",
      "The input data frame artifacts/parsed/train.tsv size is (20017, 3)\n",
      "The output matrix artifacts/features/train.pkl size is (20017, 3002) and data type is float64\n",
      "The input data frame artifacts/parsed/test.tsv size is (4983, 3)\n",
      "The output matrix artifacts/features/test.pkl size is (4983, 3002) and data type is float64\n",
      "\\u2839 Checking graphng stages from the workspace\n",
      "\\u2839 Checking graphges from the workspacekspace\n",
      "\u001b[?25h\r"
     ]
    }
   ],
   "source": [
    "%run -i 'src/featurize.py' 'artifacts/parsed' 'artifacts/features'"
   ]
  },
  {
   "cell_type": "code",
   "execution_count": 15,
   "id": "91d6a9ec-de73-4d9d-b264-69d025f06de8",
   "metadata": {},
   "outputs": [
    {
     "name": "stdout",
     "output_type": "stream",
     "text": [
      "*** Note: CMF will check out a new branch in git to commit the metadata files ***\n",
      "*** The checked out branch is mlmd. ***\n"
     ]
    },
    {
     "name": "stderr",
     "output_type": "stream",
     "text": [
      "\\u2838 Checking graphges from the workspacekspace\n",
      "Input matrix size (20017, 3002)\n",
      "X matrix size (20017, 3000)\n",
      "Y matrix size (20017,)\n",
      "\\u283c Checking graphges from the workspacekspace\n",
      "\u001b[?25h\r"
     ]
    }
   ],
   "source": [
    "%run -i 'src/train.py' 'artifacts/features' 'artifacts/model'"
   ]
  },
  {
   "cell_type": "code",
   "execution_count": 16,
   "id": "8684c761-80fe-4a3e-9115-8e9ef0e3747f",
   "metadata": {},
   "outputs": [
    {
     "name": "stdout",
     "output_type": "stream",
     "text": [
      "*** Note: CMF will check out a new branch in git to commit the metadata files ***\n",
      "*** The checked out branch is mlmd. ***\n"
     ]
    },
    {
     "name": "stderr",
     "output_type": "stream",
     "text": [
      "\\u2839 Checking graphges from the workspacekspace\n",
      "\\u283c Checking graphges from the workspacekspace\n",
      "\u001b[?25h\r"
     ]
    }
   ],
   "source": [
    "%run -i 'src/test.py' 'artifacts/model' 'artifacts/features' 'artifacts/test_results'"
   ]
  },
  {
   "cell_type": "code",
   "execution_count": 17,
   "id": "cca77467-23f2-49be-b04d-816a450be9c3",
   "metadata": {},
   "outputs": [
    {
     "name": "stdout",
     "output_type": "stream",
     "text": [
      "['Test-env/Prepare', 'Test-env/Featurize', 'Test-env/Train', 'Test-env/Evaluate']\n",
      "\n",
      "\n",
      "\n",
      "\n",
      "+----+--------------+------------------+---------------------------------------------------------------+--------------------------------------+--------------------------------------------+-----------------+---------------+------+--------+----------+---------+\n",
      "|    |   Context_ID | Context_Type     | Execution                                                     | Execution_uuid                       | Git_Repo                                   | Pipeline_Type   |   Pipeline_id |   id | name   |     seed |   split |\n",
      "|----+--------------+------------------+---------------------------------------------------------------+--------------------------------------+--------------------------------------------+-----------------+---------------+------+--------+----------+---------|\n",
      "|  0 |            2 | Test-env/Prepare | ['src/parse.py', 'artifacts/data.xml.gz', 'artifacts/parsed'] | 349901aa-4d3f-11ee-82bb-8f3f07423144 | https://github.com/varkha-d-sharma/cmf.git | Test-env        |             1 |    1 |        | 20170428 |     0.2 |\n",
      "+----+--------------+------------------+---------------------------------------------------------------+--------------------------------------+--------------------------------------------+-----------------+---------------+------+--------+----------+---------+\n",
      "\n",
      "\n",
      "\n",
      "\n",
      "+----+--------------+--------------------+----------------------------------------------------------------+--------------------------------------+--------------------------------------------+-----------------+---------------+------+----------------+--------+----------+\n",
      "|    |   Context_ID | Context_Type       | Execution                                                      | Execution_uuid                       | Git_Repo                                   | Pipeline_Type   |   Pipeline_id |   id |   max_features | name   |   ngrams |\n",
      "|----+--------------+--------------------+----------------------------------------------------------------+--------------------------------------+--------------------------------------------+-----------------+---------------+------+----------------+--------+----------|\n",
      "|  0 |            3 | Test-env/Featurize | ['src/featurize.py', 'artifacts/parsed', 'artifacts/features'] | 3dd05aa2-4d3f-11ee-82bb-8f3f07423144 | https://github.com/varkha-d-sharma/cmf.git | Test-env        |             1 |    2 |           3000 |        |        2 |\n",
      "+----+--------------+--------------------+----------------------------------------------------------------+--------------------------------------+--------------------------------------------+-----------------+---------------+------+----------------+--------+----------+\n",
      "\n",
      "\n",
      "\n",
      "\n",
      "+----+--------------+----------------+-----------------------------------------------------------+--------------------------------------+--------------------------------------------+-----------------+---------------+------+-------------+---------+--------+----------+\n",
      "|    |   Context_ID | Context_Type   | Execution                                                 | Execution_uuid                       | Git_Repo                                   | Pipeline_Type   |   Pipeline_id |   id |   min_split |   n_est | name   |     seed |\n",
      "|----+--------------+----------------+-----------------------------------------------------------+--------------------------------------+--------------------------------------------+-----------------+---------------+------+-------------+---------+--------+----------|\n",
      "|  0 |            4 | Test-env/Train | ['src/train.py', 'artifacts/features', 'artifacts/model'] | 583219e4-4d3f-11ee-82bb-8f3f07423144 | https://github.com/varkha-d-sharma/cmf.git | Test-env        |             1 |    3 |          64 |     100 |        | 20170428 |\n",
      "+----+--------------+----------------+-----------------------------------------------------------+--------------------------------------+--------------------------------------------+-----------------+---------------+------+-------------+---------+--------+----------+\n",
      "\n",
      "\n",
      "\n",
      "\n",
      "+----+--------------+-------------------+------------------------------------------------------------------------------------+--------------------------------------+--------------------------------------------+-----------------+---------------+------+--------+\n",
      "|    |   Context_ID | Context_Type      | Execution                                                                          | Execution_uuid                       | Git_Repo                                   | Pipeline_Type   |   Pipeline_id |   id | name   |\n",
      "|----+--------------+-------------------+------------------------------------------------------------------------------------+--------------------------------------+--------------------------------------------+-----------------+---------------+------+--------|\n",
      "|  0 |            5 | Test-env/Evaluate | ['src/test.py', 'artifacts/model', 'artifacts/features', 'artifacts/test_results'] | 60f960d2-4d3f-11ee-82bb-8f3f07423144 | https://github.com/varkha-d-sharma/cmf.git | Test-env        |             1 |    4 |        |\n",
      "+----+--------------+-------------------+------------------------------------------------------------------------------------+--------------------------------------+--------------------------------------------+-----------------+---------------+------+--------+\n"
     ]
    }
   ],
   "source": [
    "%run -i 'src/query.py' 'mlmd'"
   ]
  },
  {
   "cell_type": "code",
   "execution_count": 28,
   "id": "b13d2ccb-3c97-49bb-9b06-a8aa2cbb414f",
   "metadata": {},
   "outputs": [
    {
     "name": "stdout",
     "output_type": "stream",
     "text": [
      "mlmd is successfully pushed.\n"
     ]
    }
   ],
   "source": [
    "# Start cmf-server ui-server to push mlmd \n",
    "_=metadata_push(\"Test-env\",\"./mlmd\")"
   ]
  },
  {
   "cell_type": "code",
   "execution_count": 47,
   "id": "f9bf37a4-8487-4e19-aa76-0bfd8a5bd24d",
   "metadata": {},
   "outputs": [
    {
     "name": "stderr",
     "output_type": "stream",
     "text": [
      "WARNING: Output '../active_learning/data/model-0'(stage: '../active_learning/dvc.yaml:round_0') is missing version info. Cache for it will not be collected. Use `dvc repro` to get your pipeline up to date.\n",
      "WARNING: Output '../active_learning/data/metrics-0'(stage: '../active_learning/dvc.yaml:round_0') is missing version info. Cache for it will not be collected. Use `dvc repro` to get your pipeline up to date.\n",
      "WARNING: Output '../active_learning/data/round-1.txt'(stage: '../active_learning/dvc.yaml:active_learning_selection@0') is missing version info. Cache for it will not be collected. Use `dvc repro` to get your pipeline up to date.\n",
      "WARNING: Output '../active_learning/data/round-2.txt'(stage: '../active_learning/dvc.yaml:active_learning_selection@1') is missing version info. Cache for it will not be collected. Use `dvc repro` to get your pipeline up to date.\n",
      "WARNING: Output '../active_learning/data/round-3.txt'(stage: '../active_learning/dvc.yaml:active_learning_selection@2') is missing version info. Cache for it will not be collected. Use `dvc repro` to get your pipeline up to date.\n",
      "WARNING: Output '../active_learning/data/model-1'(stage: '../active_learning/dvc.yaml:active_learning_training@0') is missing version info. Cache for it will not be collected. Use `dvc repro` to get your pipeline up to date.\n",
      "WARNING: Output '../active_learning/data/model-2'(stage: '../active_learning/dvc.yaml:active_learning_training@1') is missing version info. Cache for it will not be collected. Use `dvc repro` to get your pipeline up to date.\n",
      "WARNING: Output '../active_learning/data/model-3'(stage: '../active_learning/dvc.yaml:active_learning_training@2') is missing version info. Cache for it will not be collected. Use `dvc repro` to get your pipeline up to date.\n",
      "WARNING: Output '../active_learning/data/metrics-1'(stage: '../active_learning/dvc.yaml:active_learning_eval@0') is missing version info. Cache for it will not be collected. Use `dvc repro` to get your pipeline up to date.\n",
      "WARNING: Output '../active_learning/data/metrics-2'(stage: '../active_learning/dvc.yaml:active_learning_eval@1') is missing version info. Cache for it will not be collected. Use `dvc repro` to get your pipeline up to date.\n",
      "WARNING: Output '../active_learning/data/metrics-3'(stage: '../active_learning/dvc.yaml:active_learning_eval@2') is missing version info. Cache for it will not be collected. Use `dvc repro` to get your pipeline up to date.\n"
     ]
    },
    {
     "name": "stdout",
     "output_type": "stream",
     "text": [
      "Everything is up to date.\n"
     ]
    }
   ],
   "source": [
    "#PUSHING ARTIFACTS TO CMF-SERVER\n",
    "_=artifact_push()"
   ]
  },
  {
   "cell_type": "code",
   "execution_count": null,
   "id": "20c239b8-638a-45e1-91a2-0366882976f3",
   "metadata": {},
   "outputs": [],
   "source": []
  },
  {
   "cell_type": "code",
   "execution_count": null,
   "id": "73d94884-41c1-46a8-a02b-adb7322b8253",
   "metadata": {},
   "outputs": [],
   "source": []
  }
 ],
 "metadata": {
  "kernelspec": {
   "display_name": "Python 3 (ipykernel)",
   "language": "python",
   "name": "python3"
  },
  "language_info": {
   "codemirror_mode": {
    "name": "ipython",
    "version": 3
   },
   "file_extension": ".py",
   "mimetype": "text/x-python",
   "name": "python",
   "nbconvert_exporter": "python",
   "pygments_lexer": "ipython3",
   "version": "3.8.10"
  }
 },
 "nbformat": 4,
 "nbformat_minor": 5
}
